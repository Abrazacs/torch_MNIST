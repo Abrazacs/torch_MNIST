{
  "nbformat": 4,
  "nbformat_minor": 0,
  "metadata": {
    "colab": {
      "provenance": [],
      "authorship_tag": "ABX9TyP0JW8lX+ksVjxwqqiS8FRA",
      "include_colab_link": true
    },
    "kernelspec": {
      "name": "python3",
      "display_name": "Python 3"
    },
    "language_info": {
      "name": "python"
    }
  },
  "cells": [
    {
      "cell_type": "markdown",
      "metadata": {
        "id": "view-in-github",
        "colab_type": "text"
      },
      "source": [
        "<a href=\"https://colab.research.google.com/github/Abrazacs/torch_MNIST/blob/main/%D0%9A%D0%BB%D0%B0%D1%81%D1%81%D0%B8%D1%84%D0%B8%D0%BA%D0%B0%D1%86%D0%B8%D1%8F_MNIST.ipynb\" target=\"_parent\"><img src=\"https://colab.research.google.com/assets/colab-badge.svg\" alt=\"Open In Colab\"/></a>"
      ]
    },
    {
      "cell_type": "code",
      "execution_count": 4,
      "metadata": {
        "colab": {
          "base_uri": "https://localhost:8080/"
        },
        "id": "RoYUcF_s3lGS",
        "outputId": "ba3720f2-283a-47c1-90cd-6c81af8cea53"
      },
      "outputs": [
        {
          "output_type": "execute_result",
          "data": {
            "text/plain": [
              "Sequential(\n",
              "  (0): Flatten(start_dim=1, end_dim=-1)\n",
              "  (1): Linear(in_features=784, out_features=32, bias=True)\n",
              "  (2): ReLU()\n",
              "  (3): Linear(in_features=32, out_features=16, bias=True)\n",
              "  (4): ReLU()\n",
              "  (5): Linear(in_features=16, out_features=10, bias=True)\n",
              ")"
            ]
          },
          "metadata": {},
          "execution_count": 4
        }
      ],
      "source": [
        "import torchvision\n",
        "from torchvision import transforms\n",
        "import torch.nn as nn\n",
        "from torch.utils.data import DataLoader\n",
        "import torch\n",
        "\n",
        "image_path = './'\n",
        "transform = transforms.Compose([\n",
        "  transforms.ToTensor()\n",
        "])\n",
        "\n",
        "mnist_train_dataset = torchvision.datasets.MNIST(\n",
        "    root=image_path, train=True,\n",
        "    transform=transform, download=True)\n",
        "\n",
        "mnist_test_dataset = torchvision.datasets.MNIST(\n",
        "    root=image_path, train=False,\n",
        "    transform=transform, download=True)\n",
        "\n",
        "batch_size = 64\n",
        "torch.manual_seed(1)\n",
        "\n",
        "train_dl = DataLoader(mnist_train_dataset, batch_size, shuffle=True)\n",
        "\n",
        "hidden_units = [32, 16]\n",
        "image_size = mnist_train_dataset[0][0].shape\n",
        "input_size = image_size[0] * image_size[1]* image_size[2]\n",
        "classes_qty = 10\n",
        "all_layers = [nn.Flatten()]\n",
        "\n",
        "for hidden_unit in hidden_units:\n",
        "    all_layers.append(nn.Linear(input_size, hidden_unit))\n",
        "    all_layers.append(nn.ReLU())\n",
        "    input_size = hidden_unit\n",
        "\n",
        "all_layers.append(nn.Linear(hidden_units[-1], classes_qty))\n",
        "\n",
        "model = nn.Sequential(*all_layers)\n",
        "model"
      ]
    },
    {
      "cell_type": "code",
      "source": [
        "loss_fn = nn.CrossEntropyLoss()\n",
        "optimizer = torch.optim.Adam(model.parameters(), lr=0.001)\n",
        "torch.manual_seed(1)\n",
        "num_epochs = 20\n",
        "\n",
        "for epoch in range(num_epochs):\n",
        "  accuracy_hist_train = 0\n",
        "  for x_bacth, y_batch in train_dl:\n",
        "    pred = model(x_bacth)\n",
        "    loss = loss_fn(pred, y_batch)\n",
        "    loss.backward()\n",
        "    optimizer.step()\n",
        "    optimizer.zero_grad()\n",
        "    is_correct = (torch.argmax(pred, dim=1) == y_batch).float()\n",
        "    accuracy_hist_train += is_correct.sum()\n",
        "  accuracy_hist_train /= len(train_dl.dataset)\n",
        "  print(f\"Epoch: {epoch}, Accuracy: {accuracy_hist_train}\")"
      ],
      "metadata": {
        "colab": {
          "base_uri": "https://localhost:8080/"
        },
        "id": "E6sm2pX-6sR9",
        "outputId": "93a6f557-1aec-481a-c456-6bf154253ff8"
      },
      "execution_count": 6,
      "outputs": [
        {
          "output_type": "stream",
          "name": "stdout",
          "text": [
            "Epoch: 0, Accuracy: 0.8524500131607056\n",
            "Epoch: 1, Accuracy: 0.9278666377067566\n",
            "Epoch: 2, Accuracy: 0.94118332862854\n",
            "Epoch: 3, Accuracy: 0.9505000114440918\n",
            "Epoch: 4, Accuracy: 0.95496666431427\n",
            "Epoch: 5, Accuracy: 0.9587666392326355\n",
            "Epoch: 6, Accuracy: 0.9624000191688538\n",
            "Epoch: 7, Accuracy: 0.9644333124160767\n",
            "Epoch: 8, Accuracy: 0.9668999910354614\n",
            "Epoch: 9, Accuracy: 0.9687333106994629\n",
            "Epoch: 10, Accuracy: 0.9705166816711426\n",
            "Epoch: 11, Accuracy: 0.9728166460990906\n",
            "Epoch: 12, Accuracy: 0.9738333225250244\n",
            "Epoch: 13, Accuracy: 0.975433349609375\n",
            "Epoch: 14, Accuracy: 0.9761333465576172\n",
            "Epoch: 15, Accuracy: 0.977733314037323\n",
            "Epoch: 16, Accuracy: 0.9779666662216187\n",
            "Epoch: 17, Accuracy: 0.9795833230018616\n",
            "Epoch: 18, Accuracy: 0.9800000190734863\n",
            "Epoch: 19, Accuracy: 0.981166660785675\n"
          ]
        }
      ]
    },
    {
      "cell_type": "code",
      "source": [
        "pred = model(mnist_test_dataset.data / 255)\n",
        "is_correct = (torch.argmax(pred, dim=1) == mnist_test_dataset.targets).float()\n",
        "print(f\"Accuracy: {is_correct.mean():.4f}\")"
      ],
      "metadata": {
        "colab": {
          "base_uri": "https://localhost:8080/"
        },
        "id": "5jKo6knn8z67",
        "outputId": "3003b4d1-e17c-4b5f-925c-a3f739ae5811"
      },
      "execution_count": 7,
      "outputs": [
        {
          "output_type": "stream",
          "name": "stdout",
          "text": [
            "Accuracy: 0.9641\n"
          ]
        }
      ]
    }
  ]
}